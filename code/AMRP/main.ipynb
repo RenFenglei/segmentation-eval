{
 "cells": [
  {
   "cell_type": "markdown",
   "metadata": {},
   "source": [
    "# CM3: Convolution with Max Operator and Mathematical Morphology"
   ]
  },
  {
   "cell_type": "markdown",
   "metadata": {},
   "source": [
    "---\n",
    "## Activate Conda Environment\n",
    "\n",
    "To create the development environment, create and start the Anaconda environment, that contains all software needed to run this notebook properly.\n",
    "\n",
    "Below is the terminal scripts to create and run the Anaconda environment.\n",
    "\n",
    "```\n",
    "conda env create -f ../i2dl.yml\n",
    "source activate i2dl\n",
    "```"
   ]
  },
  {
   "cell_type": "markdown",
   "metadata": {},
   "source": [
    "---\n",
    "## Download KITTI Road Dataset\n",
    "\n",
    "Download must be done using browser, because it's necessary to inform your current mail to download the file.\n",
    "\n",
    "Link: http://www.cvlibs.net/download.php?file=data_road.zip\n",
    "\n",
    "### Unzip the files\n",
    "\n",
    "Put the *data_road* zip file inside the folder *datasets/Kitti/* and unzip the file using the command below.\n",
    "\n",
    "```\n",
    "unzip data_road.zip\n",
    "```\n",
    "\n",
    "### *Datasets* Folder\n",
    "\n",
    "The dataset folder should have a structure like this:\n",
    "- datasets/\n",
    "  - Kitti/\n",
    "    - data_road/\n",
    "    - testing/\n",
    "    - training/\n"
   ]
  },
  {
   "cell_type": "markdown",
   "metadata": {},
   "source": [
    "---\n",
    "## Speed up training\n",
    "\n",
    "To provide more speed in the training and testing operations, we put all images in Numpy array and read the images once. This operation avoid multiple disk/ssd readings.\n",
    "\n",
    "To create it it's possible to use the command shell in AMRP folder or to use the notebook.\n",
    "Below the instructions to run with the command shell.\n",
    "\n",
    "```\n",
    "python kitti.py --func=npy --set=train --augm=true\n",
    "```\n",
    "\n",
    "### Params\n",
    "* set = {train || test}\n",
    "  * Parâmetro para conjunto de treino ou teste a ser utilizado.\n",
    "\n",
    "* augm? = {false || true}\n",
    "  * Parâmetro para uso de dataset com data augmentation."
   ]
  },
  {
   "cell_type": "code",
   "execution_count": null,
   "metadata": {},
   "outputs": [
    {
     "name": "stdout",
     "output_type": "stream",
     "text": [
      "../datasets/Kitti/data_road_augmented/training/image_2/\n",
      "../datasets/Kitti/data_road_augmented/training/gt_image_2/\n",
      "596 / 1445\r"
     ]
    }
   ],
   "source": [
    "import npy_kitti as nk\n",
    "nk.npy(set_name='train', augm=True)"
   ]
  },
  {
   "cell_type": "markdown",
   "metadata": {},
   "source": [
    "---\n",
    "## Train the Network\n",
    "To run the neural network, use the command shell with the scripts below.\n",
    "\n",
    "```\n",
    "python kitti.py --func=train --net=full --check=true --augm=true --load=true\n",
    "python kitti.py --func=train --net=hed --merge=add --check=true --augm=true --load=true\n",
    "python kitti.py --func=train --net=hed --merge=avg --check=true --augm=true --load=true\n",
    "python kitti.py --func=train --net=hed --merge=max --check=true --augm=true --load=true\n",
    "python kitti.py --func=train --net=hed --merge=maj --check=true --augm=true --load=true --vote=3\n",
    "```\n",
    "\n",
    "### Params\n",
    "* func = { run }\n",
    "  * Opção para execução da rede neural.\n",
    "\n",
    "* net = { hed || full }\n",
    "  * Parâmetro correspondente ao nome da rede neural a ser utilizada (hed ou full).\n",
    "\n",
    "* merge = { avg || max || add || maj }\n",
    "  * Parâmetro correspondente ao nome da operação a ser executada.\n",
    "\n",
    "* check = {false || true}\n",
    "  * Parâmetro para armazenamento de pontos de controle.\n",
    "\n",
    "* vote? = {1-5} (*OPCIONAL: somente para merge==maj*)\n",
    "  * Parâmetro correspondente ao número de votos necessários para que sejam consideradas as maiorias.\n",
    "\n",
    "* augm? = {false || true}  (*OPCIONAL*)\n",
    "  * Parâmetro para uso de dataset com data augmentation.\n",
    "\n",
    "* load? = {false || true} (*OPCIONAL*)\n",
    "  * Parâmetro para uso de pesos da rede vggnet16.\n"
   ]
  },
  {
   "cell_type": "code",
   "execution_count": null,
   "metadata": {},
   "outputs": [
    {
     "name": "stderr",
     "output_type": "stream",
     "text": [
      "Using TensorFlow backend.\n"
     ]
    },
    {
     "name": "stdout",
     "output_type": "stream",
     "text": [
      "2018-12-06 10:53:32.048204\n",
      "Train on 8 samples, validate on 2 samples\n",
      "Epoch 1/400\n"
     ]
    }
   ],
   "source": [
    "import train_kitti as trk\n",
    "trk.train('hed', merge='max', check=True, augm=False, load=True)"
   ]
  },
  {
   "cell_type": "code",
   "execution_count": null,
   "metadata": {},
   "outputs": [],
   "source": [
    "import train_kitti as trk\n",
    "trk.train('full', merge=None, check=True, augm=False, load=True)"
   ]
  },
  {
   "cell_type": "markdown",
   "metadata": {},
   "source": [
    "---\n",
    "## Test the Results\n",
    "To test the networks, marking the road in the images or produce the ground-truths to submit into Kitti dataset, use the scritps below.\n",
    "\n",
    "```\n",
    "python kitti.py --func=test --net=hed --merge=max --set=train --mark=false\n",
    "python kitti.py --func=test --net=full --set=train --mark=false\n",
    "```\n",
    "\n",
    "### Params\n",
    "* net = { hed || full }\n",
    "  * Parâmetro correspondente ao nome da rede neural a ser utilizada.\n",
    "\n",
    "* merge = { avg || max || add || maj }\n",
    "  * Parâmetro correspondente ao nome da operação a ser executada.\n",
    "\n",
    "* set = {train || test}\n",
    "  * Parâmetro para conjunto de treino ou teste a ser utilizado.\n",
    "\n",
    "* mark = {false || true}\n",
    "  * Parâmetro para marcar rodovia sobre a imagem original ou gerar grond-truth.\n"
   ]
  },
  {
   "cell_type": "code",
   "execution_count": null,
   "metadata": {},
   "outputs": [],
   "source": [
    "import test_kitti as tek\n",
    "tek.test(net='hed', merge_name='max', set_name='test', mark=True)"
   ]
  },
  {
   "cell_type": "code",
   "execution_count": null,
   "metadata": {},
   "outputs": [],
   "source": [
    "import test_kitti as tek\n",
    "tek.test(net='full', merge_name=None, set_name='test', mark=True)"
   ]
  },
  {
   "cell_type": "markdown",
   "metadata": {},
   "source": [
    "---\n",
    "## Evaluate Results\n",
    "\n",
    "To eval the results, use the Kitti benchmark toolkit. The repository contains an version of Kitti benchmark toolkit with all pre-requisites into an Anaconda environment.\n",
    "\n",
    "\n",
    "### KITTI Eval Environment\n",
    "\n",
    "To create the eval environment, run the commands below in the terminal.\n",
    "\n",
    "```\n",
    "conda env create -f ../../eval/kitti.yml\n",
    "source activate kitti\n",
    "```\n",
    "\n",
    "### Eval Procedure\n",
    "\n",
    "Follow the README inside the eval folder."
   ]
  },
  {
   "cell_type": "code",
   "execution_count": null,
   "metadata": {},
   "outputs": [],
   "source": []
  }
 ],
 "metadata": {
  "kernelspec": {
   "display_name": "Python 3",
   "language": "python",
   "name": "python3"
  },
  "language_info": {
   "codemirror_mode": {
    "name": "ipython",
    "version": 3
   },
   "file_extension": ".py",
   "mimetype": "text/x-python",
   "name": "python",
   "nbconvert_exporter": "python",
   "pygments_lexer": "ipython3",
   "version": "3.6.5"
  }
 },
 "nbformat": 4,
 "nbformat_minor": 2
}
